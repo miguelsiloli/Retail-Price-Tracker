import pandas as pd

data = pd.read_csv("bebidas-e-garrafeira.csv")
print(data["quantity_selector"][0])